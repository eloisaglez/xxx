{
  "nbformat": 4,
  "nbformat_minor": 0,
  "metadata": {
    "colab": {
      "provenance": [],
      "include_colab_link": true
    },
    "kernelspec": {
      "name": "python3",
      "display_name": "Python 3"
    },
    "language_info": {
      "name": "python"
    }
  },
  "cells": [
    {
      "cell_type": "markdown",
      "metadata": {
        "id": "view-in-github",
        "colab_type": "text"
      },
      "source": [
        "<a href=\"https://colab.research.google.com/github/eloisaglez/xxx/blob/main/Test_Calculado_Mezclado_a_PAPEL_v1.ipynb\" target=\"_parent\"><img src=\"https://colab.research.google.com/assets/colab-badge.svg\" alt=\"Open In Colab\"/></a>"
      ]
    },
    {
      "cell_type": "code",
      "source": [
        "'''\n",
        "**Programa generador de tests aleatorios**\n",
        "Javier Fernández Panadero 09-12-2021\n",
        "javierfpanadero@yahoo.com\n",
        "\n",
        "Funcionamiento:\n",
        "\n",
        "- Mezcla preguntas (número arbitrario)\n",
        "- Mezcla respuestas (número arbitrario)\n",
        "- Admite preguntas multilínea (OPCIONAL)\n",
        "- Admite valores aleatorios y cálculos con ellos en enunciados y respuestas. (OPCIONAL)\n",
        "\n",
        "1. La ejecución del primer bloque te pide que subas un fichero.\n",
        "2. La ejecución del segundo bloque crea el test y lo imprime en pantalla\n",
        "3. La ejecución del tercer bloque descarga el test como output.txt\n",
        "\n",
        "\n",
        "Ejemplo de fichero formateado con todas las posibilidades:\n",
        "\n",
        "entero,x,20,25\n",
        "real,y,0.3,0.4\n",
        "lista,z,2,4,6,8\n",
        "@@@@\n",
        "\n",
        "Pregunta 1 @@ x @@, @@ z @@\n",
        "Respuesta 1a x/z @@ x/z @@\n",
        "Respuesta 1b\n",
        "Respuesta 1c\n",
        "\n",
        "Pregunta 2 @@ y @@\n",
        "Pregunta 2 (segunda linea)\n",
        "+++p\n",
        "Respuesta 2a y*2 @@ y*2 @@\n",
        "Respuesta 2b\n",
        "Respuesta 2c\n",
        "Respuesta 2d\n",
        "\n",
        "Explicación del formato:\n",
        "Cabecera opcional\n",
        "- Para enteros y reales\n",
        "tipo de variable, nombre de variable, valor mínimo, valor máximo\n",
        "- Para listas (se transformarán en reales)\n",
        "tipo de variable, nombre de variable, valor1, valor2...\n",
        "\n",
        "@@@@ marca que hay una cabecera encima de ello. (Dejad después línea en blanco)\n",
        "\n",
        "Los valores a calcular se enmarcan con dos arrobas y un espacio, por ej: @@ x*y @@\n",
        "\n",
        "A partir de ahí las preguntas en cualquier número y con cualquier número de opciones\n",
        "\n",
        "Si la pregunta tiene más de una línea poner debajo de ella +++p\n",
        "\n",
        "No se admiten respuestas de más de una línea\n",
        "\n",
        "La primera respuesta que aparece se tomará como correcta.\n",
        "\n",
        "No dejéis líneas en blanco al final del texto origen.\n",
        "\n",
        "'''"
      ],
      "metadata": {
        "colab": {
          "base_uri": "https://localhost:8080/",
          "height": 105
        },
        "id": "KPCiyFW7F2li",
        "outputId": "29af602a-657d-4658-d515-c506985e1a39"
      },
      "execution_count": null,
      "outputs": [
        {
          "output_type": "execute_result",
          "data": {
            "application/vnd.google.colaboratory.intrinsic+json": {
              "type": "string"
            },
            "text/plain": [
              "'\\n**Programa generador de tests aleatorios**\\nJavier Fernández Panadero 09-12-2021\\njavierfpanadero@yahoo.com\\n\\nFuncionamiento:\\n\\n- Mezcla preguntas (número arbitrario)\\n- Mezcla respuestas (número arbitrario)\\n- Admite preguntas multilínea (OPCIONAL)\\n- Admite valores aleatorios y cálculos con ellos en enunciados y respuestas. (OPCIONAL)\\n\\n1. La ejecución del primer bloque te pide que subas un fichero.\\n2. La ejecución del segundo bloque crea el test y lo imprime en pantalla\\n3. La ejecución del tercer bloque descarga el test como output.txt\\n\\n\\nEjemplo de fichero formateado con todas las posibilidades:\\n\\nentero,x,20,25\\nreal,y,0.3,0.4\\nlista,z,2,4,6,8\\n@@@@\\n\\nPregunta 1 @@ x @@, @@ z @@\\nRespuesta 1a x/z @@ x/z @@\\nRespuesta 1b\\nRespuesta 1c\\n\\nPregunta 2 @@ y @@\\nPregunta 2 (segunda linea)\\n+++p\\nRespuesta 2a y*2 @@ y*2 @@\\nRespuesta 2b\\nRespuesta 2c\\nRespuesta 2d\\n\\nExplicación del formato:\\nCabecera opcional\\n- Para enteros y reales\\ntipo de variable, nombre de variable, valor mínimo, valor máximo\\n- Para listas (se transformarán en reales)\\ntipo de variable, nombre de variable, valor1, valor2...\\n\\n@@@@ marca que hay una cabecera encima de ello. (Dejad después línea en blanco)\\n\\nLos valores a calcular se enmarcan con dos arrobas y un espacio, por ej: @@ x*y @@\\n\\nA partir de ahí las preguntas en cualquier número y con cualquier número de opciones\\n\\nSi la pregunta tiene más de una línea poner debajo de ella +++p\\n\\nNo se admiten respuestas de más de una línea\\n\\nLa primera respuesta que aparece se tomará como correcta.\\n\\nNo dejéis líneas en blanco al final del texto origen.\\n\\n'"
            ]
          },
          "metadata": {},
          "execution_count": 8
        }
      ]
    },
    {
      "cell_type": "code",
      "source": [
        "# Sólo ejecutar si se va a subir el archivo\n",
        "from google.colab import files\n",
        "\n",
        "uploaded = files.upload()\n",
        "file = uploaded.popitem()[0]   # Se podrían haber selecciondo varios archivos para elegir, cogemos el primero usando la posición 0\n",
        "\n",
        "with open(file,'r') as archivo:\n",
        "  texto_completo = archivo.read()\n",
        "\n",
        "print(texto_completo)"
      ],
      "metadata": {
        "colab": {
          "base_uri": "https://localhost:8080/",
          "height": 401
        },
        "id": "TaYF9NeEDhnj",
        "outputId": "3b913bbc-feb1-44a9-c5bf-abba8b522934"
      },
      "execution_count": null,
      "outputs": [
        {
          "output_type": "display_data",
          "data": {
            "text/html": [
              "\n",
              "     <input type=\"file\" id=\"files-3ecb75b5-23bc-4f48-861e-5031cec3961b\" name=\"files[]\" multiple disabled\n",
              "        style=\"border:none\" />\n",
              "     <output id=\"result-3ecb75b5-23bc-4f48-861e-5031cec3961b\">\n",
              "      Upload widget is only available when the cell has been executed in the\n",
              "      current browser session. Please rerun this cell to enable.\n",
              "      </output>\n",
              "      <script src=\"/nbextensions/google.colab/files.js\"></script> "
            ],
            "text/plain": [
              "<IPython.core.display.HTML object>"
            ]
          },
          "metadata": {}
        },
        {
          "output_type": "error",
          "ename": "MessageError",
          "evalue": "ignored",
          "traceback": [
            "\u001b[0;31m---------------------------------------------------------------------------\u001b[0m",
            "\u001b[0;31mMessageError\u001b[0m                              Traceback (most recent call last)",
            "\u001b[0;32m<ipython-input-9-dff0a4bf1d7b>\u001b[0m in \u001b[0;36m<module>\u001b[0;34m()\u001b[0m\n\u001b[1;32m      2\u001b[0m \u001b[0;32mfrom\u001b[0m \u001b[0mgoogle\u001b[0m\u001b[0;34m.\u001b[0m\u001b[0mcolab\u001b[0m \u001b[0;32mimport\u001b[0m \u001b[0mfiles\u001b[0m\u001b[0;34m\u001b[0m\u001b[0;34m\u001b[0m\u001b[0m\n\u001b[1;32m      3\u001b[0m \u001b[0;34m\u001b[0m\u001b[0m\n\u001b[0;32m----> 4\u001b[0;31m \u001b[0muploaded\u001b[0m \u001b[0;34m=\u001b[0m \u001b[0mfiles\u001b[0m\u001b[0;34m.\u001b[0m\u001b[0mupload\u001b[0m\u001b[0;34m(\u001b[0m\u001b[0;34m)\u001b[0m\u001b[0;34m\u001b[0m\u001b[0;34m\u001b[0m\u001b[0m\n\u001b[0m\u001b[1;32m      5\u001b[0m \u001b[0mfile\u001b[0m \u001b[0;34m=\u001b[0m \u001b[0muploaded\u001b[0m\u001b[0;34m.\u001b[0m\u001b[0mpopitem\u001b[0m\u001b[0;34m(\u001b[0m\u001b[0;34m)\u001b[0m\u001b[0;34m[\u001b[0m\u001b[0;36m0\u001b[0m\u001b[0;34m]\u001b[0m   \u001b[0;31m# Se podrían haber selecciondo varios archivos para elegir, cogemos el primero usando la posición 0\u001b[0m\u001b[0;34m\u001b[0m\u001b[0;34m\u001b[0m\u001b[0m\n\u001b[1;32m      6\u001b[0m \u001b[0;34m\u001b[0m\u001b[0m\n",
            "\u001b[0;32m/usr/local/lib/python3.7/dist-packages/google/colab/files.py\u001b[0m in \u001b[0;36mupload\u001b[0;34m()\u001b[0m\n\u001b[1;32m     61\u001b[0m   result = _output.eval_js(\n\u001b[1;32m     62\u001b[0m       'google.colab._files._uploadFiles(\"{input_id}\", \"{output_id}\")'.format(\n\u001b[0;32m---> 63\u001b[0;31m           input_id=input_id, output_id=output_id))\n\u001b[0m\u001b[1;32m     64\u001b[0m   \u001b[0mfiles\u001b[0m \u001b[0;34m=\u001b[0m \u001b[0m_collections\u001b[0m\u001b[0;34m.\u001b[0m\u001b[0mdefaultdict\u001b[0m\u001b[0;34m(\u001b[0m\u001b[0m_six\u001b[0m\u001b[0;34m.\u001b[0m\u001b[0mbinary_type\u001b[0m\u001b[0;34m)\u001b[0m\u001b[0;34m\u001b[0m\u001b[0;34m\u001b[0m\u001b[0m\n\u001b[1;32m     65\u001b[0m   \u001b[0;31m# Mapping from original filename to filename as saved locally.\u001b[0m\u001b[0;34m\u001b[0m\u001b[0;34m\u001b[0m\u001b[0;34m\u001b[0m\u001b[0m\n",
            "\u001b[0;32m/usr/local/lib/python3.7/dist-packages/google/colab/output/_js.py\u001b[0m in \u001b[0;36meval_js\u001b[0;34m(script, ignore_result, timeout_sec)\u001b[0m\n\u001b[1;32m     38\u001b[0m   \u001b[0;32mif\u001b[0m \u001b[0mignore_result\u001b[0m\u001b[0;34m:\u001b[0m\u001b[0;34m\u001b[0m\u001b[0;34m\u001b[0m\u001b[0m\n\u001b[1;32m     39\u001b[0m     \u001b[0;32mreturn\u001b[0m\u001b[0;34m\u001b[0m\u001b[0;34m\u001b[0m\u001b[0m\n\u001b[0;32m---> 40\u001b[0;31m   \u001b[0;32mreturn\u001b[0m \u001b[0m_message\u001b[0m\u001b[0;34m.\u001b[0m\u001b[0mread_reply_from_input\u001b[0m\u001b[0;34m(\u001b[0m\u001b[0mrequest_id\u001b[0m\u001b[0;34m,\u001b[0m \u001b[0mtimeout_sec\u001b[0m\u001b[0;34m)\u001b[0m\u001b[0;34m\u001b[0m\u001b[0;34m\u001b[0m\u001b[0m\n\u001b[0m\u001b[1;32m     41\u001b[0m \u001b[0;34m\u001b[0m\u001b[0m\n\u001b[1;32m     42\u001b[0m \u001b[0;34m\u001b[0m\u001b[0m\n",
            "\u001b[0;32m/usr/local/lib/python3.7/dist-packages/google/colab/_message.py\u001b[0m in \u001b[0;36mread_reply_from_input\u001b[0;34m(message_id, timeout_sec)\u001b[0m\n\u001b[1;32m    104\u001b[0m         reply.get('colab_msg_id') == message_id):\n\u001b[1;32m    105\u001b[0m       \u001b[0;32mif\u001b[0m \u001b[0;34m'error'\u001b[0m \u001b[0;32min\u001b[0m \u001b[0mreply\u001b[0m\u001b[0;34m:\u001b[0m\u001b[0;34m\u001b[0m\u001b[0;34m\u001b[0m\u001b[0m\n\u001b[0;32m--> 106\u001b[0;31m         \u001b[0;32mraise\u001b[0m \u001b[0mMessageError\u001b[0m\u001b[0;34m(\u001b[0m\u001b[0mreply\u001b[0m\u001b[0;34m[\u001b[0m\u001b[0;34m'error'\u001b[0m\u001b[0;34m]\u001b[0m\u001b[0;34m)\u001b[0m\u001b[0;34m\u001b[0m\u001b[0;34m\u001b[0m\u001b[0m\n\u001b[0m\u001b[1;32m    107\u001b[0m       \u001b[0;32mreturn\u001b[0m \u001b[0mreply\u001b[0m\u001b[0;34m.\u001b[0m\u001b[0mget\u001b[0m\u001b[0;34m(\u001b[0m\u001b[0;34m'data'\u001b[0m\u001b[0;34m,\u001b[0m \u001b[0;32mNone\u001b[0m\u001b[0;34m)\u001b[0m\u001b[0;34m\u001b[0m\u001b[0;34m\u001b[0m\u001b[0m\n\u001b[1;32m    108\u001b[0m \u001b[0;34m\u001b[0m\u001b[0m\n",
            "\u001b[0;31mMessageError\u001b[0m: TypeError: Cannot read properties of undefined (reading '_uploadFiles')"
          ]
        }
      ]
    },
    {
      "cell_type": "code",
      "execution_count": null,
      "metadata": {
        "colab": {
          "base_uri": "https://localhost:8080/",
          "height": 235
        },
        "id": "v_BUSzXjDDzh",
        "outputId": "4de22d2d-95f1-4808-c881-ce3f36a239b6"
      },
      "outputs": [
        {
          "output_type": "error",
          "ename": "NameError",
          "evalue": "ignored",
          "traceback": [
            "\u001b[0;31m---------------------------------------------------------------------------\u001b[0m",
            "\u001b[0;31mNameError\u001b[0m                                 Traceback (most recent call last)",
            "\u001b[0;32m<ipython-input-3-501d6acca6e4>\u001b[0m in \u001b[0;36m<module>\u001b[0;34m()\u001b[0m\n\u001b[1;32m     10\u001b[0m \u001b[0mmarca_def\u001b[0m \u001b[0;34m=\u001b[0m \u001b[0;34m'\\n@@@@\\n\\n'\u001b[0m\u001b[0;34m\u001b[0m\u001b[0;34m\u001b[0m\u001b[0m\n\u001b[1;32m     11\u001b[0m \u001b[0;34m\u001b[0m\u001b[0m\n\u001b[0;32m---> 12\u001b[0;31m \u001b[0;32mif\u001b[0m \u001b[0mmarca_def\u001b[0m \u001b[0;32min\u001b[0m \u001b[0mtexto_completo\u001b[0m\u001b[0;34m:\u001b[0m\u001b[0;34m\u001b[0m\u001b[0;34m\u001b[0m\u001b[0m\n\u001b[0m\u001b[1;32m     13\u001b[0m     \u001b[0mrompe_cabecera\u001b[0m \u001b[0;34m=\u001b[0m \u001b[0mtexto_completo\u001b[0m\u001b[0;34m.\u001b[0m\u001b[0msplit\u001b[0m\u001b[0;34m(\u001b[0m\u001b[0mmarca_def\u001b[0m\u001b[0;34m)\u001b[0m  \u001b[0;31m#separa cabecera y texto\u001b[0m\u001b[0;34m\u001b[0m\u001b[0;34m\u001b[0m\u001b[0m\n\u001b[1;32m     14\u001b[0m     \u001b[0mcabecera\u001b[0m \u001b[0;34m=\u001b[0m \u001b[0mrompe_cabecera\u001b[0m\u001b[0;34m[\u001b[0m\u001b[0;36m0\u001b[0m\u001b[0;34m]\u001b[0m\u001b[0;34m\u001b[0m\u001b[0;34m\u001b[0m\u001b[0m\n",
            "\u001b[0;31mNameError\u001b[0m: name 'texto_completo' is not defined"
          ]
        }
      ],
      "source": [
        "#with open('PruebaExamenAleatorio.txt','r') as f:   #Si cargamos fichero\n",
        "    #texto_completo = f.read()\n",
        "\n",
        "import random\n",
        "import re        #para usar expresiones regulares\n",
        "import math\n",
        "\n",
        "#Buscamos si hay cabecera con variables y la procesamos\n",
        "\n",
        "marca_def = '\\n@@@@\\n\\n'\n",
        "\n",
        "if marca_def in texto_completo:\n",
        "    rompe_cabecera = texto_completo.split(marca_def)  #separa cabecera y texto\n",
        "    cabecera = rompe_cabecera[0]\n",
        "    texto = rompe_cabecera[1]\n",
        "    \n",
        "    lineas = cabecera.split('\\n')\n",
        "    variables = []\n",
        "    for linea in lineas:\n",
        "        elementos = linea.split(',')\n",
        "        variables.append(elementos)\n",
        "    for variable in variables:\n",
        "        if variable[0] == 'entero':\n",
        "            min = int(variable[2])\n",
        "            max = int(variable[3])\n",
        "            valor = random.randint(min,max)       #un entero entre los valores máximo y mínimo\n",
        "            exec(\"%s = %d\" % (variable[1],valor)) #asignamos el valor al nombre elegido por el usuario para la variable\n",
        "        if variable[0] == 'real':\n",
        "            min = float(variable[2])\n",
        "            max = float(variable[3])\n",
        "            valor = random.uniform(min,max)       #un float entre en mín incluido y el máximo sin incluir\n",
        "            exec(\"%s = %f\" % (variable[1],valor)) #asignamos el valor al nombre elegido por el usuario para la variable\n",
        "        if variable[0] == 'lista':\n",
        "            elegibles = variable[2:]\n",
        "            for i in range(len(elegibles)):\n",
        "                elegibles[i] = int(elegibles[i])\n",
        "            valor = random.choice(elegibles)      #valores entre una lista\n",
        "            exec(\"%s = %d\" % (variable[1],valor)) #asignamos el valor al nombre elegido por el usuario para la variable\n",
        "\n",
        "    # REEMPLAZAMIENTO\n",
        "    \n",
        "    #Buscamos cualquier cadena entre las marcas @@+espacio que serán las expresiones a evaluar\n",
        "    \n",
        "    ocurrencias = re.findall('@@ (.+?) @@', texto)\n",
        "    #print(ocurrencias)\n",
        "\n",
        "    #Creamos un diccionario con las ocurrencias y su valor (eval es una función \"insegura\" pero aquí la usa el usuario solo)\n",
        "    \n",
        "    reemplazador={}\n",
        "    for ocurrencia in ocurrencias:\n",
        "        reemplazador[ocurrencia] = eval(ocurrencia)\n",
        "    \n",
        "    #Si queremos que los resultados salgan ajustados por cifras significativas\n",
        "    \n",
        "    def ajuste(x,n):\n",
        "        m = math.ceil(math.log10(x))   #con log10 sabré hasta dónde hay que redondear para quedarse con n cifras\n",
        "        resultado = round(x,n-m)\n",
        "        return resultado\n",
        "\n",
        "    print(reemplazador)\n",
        "   \n",
        "    for key, value in reemplazador.items():\n",
        "        reemplazador[key] = ajuste(value,3)     # TRES cifras significativas\n",
        "\n",
        "    print(reemplazador)\n",
        "\n",
        "    #Llevamos a cabo todos los reemplazos en el texto del examen\n",
        "    \n",
        "    for clave, valor in reemplazador.items():\n",
        "        texto = texto.replace('@@ '+clave+' @@', str(valor))\n",
        "    \n",
        "    texto_completo = texto\n",
        "#print(texto_completo)\n",
        "\n",
        "#Separamos el texto en preguntas\n",
        "\n",
        "texto_preguntas=texto_completo.split(sep='\\n\\n')    #separo el texto en preguntas \n",
        "\n",
        "#print (texto_preguntas)   \n",
        "\n",
        "#Separamos las respuestas del enunciado, teniendo en cuenta si hay enunciados multilínea\n",
        "\n",
        "marca_pregunta = '+++p\\n'\n",
        "\n",
        "examen_inicial=[]\n",
        "for pregunta in texto_preguntas:\n",
        "    if marca_pregunta in pregunta:                      #si la pregunta es multilínea\n",
        "        primercorte = pregunta.split(marca_pregunta)    #separamos la pregunta\n",
        "        enunciado = primercorte.pop(0)                  #extraemos la pregunta\n",
        "        segundocorte = primercorte[0].split('\\n')       #separamos las respuestas\n",
        "        segundocorte.insert(0, enunciado[:-1])          #añadimos el enunciado sin el último cambio de línea\n",
        "        examen_inicial.append(segundocorte)\n",
        "        #print(examen_inicial)\n",
        "    else:\n",
        "        segundocorteB = pregunta.split('\\n')            #separamos pregunta y respuestas\n",
        "        examen_inicial.append(segundocorteB)            #examen como lista de listas. Primer elemento pregunta.\n",
        "\n",
        "#print(examen_inicial)\n",
        "\n",
        "\n",
        "\n",
        "#mezclado de respuestas\n",
        "\n",
        "examen_modificado = []\n",
        "\n",
        "for pregunta in examen_inicial:\n",
        "    pregunta[1]='$$$'+pregunta[1]    #marco la respuesta correcta\n",
        "    respuestas=pregunta[1:]          #sacamos la pregunta   \n",
        "    random.shuffle(respuestas)       #mezclamos las respuestas\n",
        "    respuestas.insert(0,pregunta[0]) #añadimos la pregunta de nuevo\n",
        "    pregunta = respuestas\n",
        "    examen_modificado.append(pregunta)\n",
        "\n",
        "#mezclamos las preguntas\n",
        "\n",
        "random.shuffle(examen_modificado)       \n",
        "\n",
        "#clave para corregir\n",
        "abecedario='abcdefghijklmnopqrstuvwxyz'\n",
        "key=[]\n",
        "for i, pregunta in enumerate(examen_modificado):\n",
        "    for j, respuestas in enumerate(pregunta):\n",
        "        if pregunta[j].startswith('$$$'):          #buscamos la respuesta correcta\n",
        "            pregunta[j]=pregunta[j][3:]            #quitamos la marca\n",
        "            key.append([str(i+1),abecedario[j-1]]) #anotamos su posición\n",
        "            break\n",
        "\n",
        "#escribimos el test de salida\n",
        "test=''\n",
        "\n",
        "for i, pregunta in enumerate(examen_modificado):\n",
        "    for j, respuestas in enumerate(pregunta):\n",
        "        if j == 0:\n",
        "            test+= str(i+1)+'. '+ pregunta[0]+'\\n'\n",
        "        else:\n",
        "            test+= abecedario[j-1]+') '+pregunta[j]+'\\n'\n",
        "    test+= '\\n'\n",
        "\n",
        "\n",
        "#añadimos la clave\n",
        "\n",
        "test+= '\\n'*5 +'CLAVE'\n",
        "\n",
        "for i in range(len(key)):\n",
        "    test += '\\n'\n",
        "    for j in range(len(key[i])):\n",
        "        test += key[i][j]\n",
        "\n",
        "print(test)"
      ]
    },
    {
      "cell_type": "code",
      "source": [
        "# Descargamos el archivo de salida\n",
        "salida = \"output.txt\"   # Puede cambiarse a otro nombre\n",
        "\n",
        "with open(salida,\"w\") as archivo:\n",
        "  archivo.write(test)\n",
        "\n",
        "files.download(salida)\n"
      ],
      "metadata": {
        "id": "PIq3Cw8yERuD"
      },
      "execution_count": null,
      "outputs": []
    }
  ]
}